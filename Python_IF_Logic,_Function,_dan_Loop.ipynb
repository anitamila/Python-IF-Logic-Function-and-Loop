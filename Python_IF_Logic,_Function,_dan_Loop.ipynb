{
  "nbformat": 4,
  "nbformat_minor": 0,
  "metadata": {
    "colab": {
      "provenance": [],
      "authorship_tag": "ABX9TyOEj1nVpm8rX+4cvn8x9+UN",
      "include_colab_link": true
    },
    "kernelspec": {
      "name": "python3",
      "display_name": "Python 3"
    },
    "language_info": {
      "name": "python"
    }
  },
  "cells": [
    {
      "cell_type": "markdown",
      "metadata": {
        "id": "view-in-github",
        "colab_type": "text"
      },
      "source": [
        "<a href=\"https://colab.research.google.com/github/anitamila/Python-IF-Logic-Function-and-Loop/blob/master/Python_IF_Logic%2C_Function%2C_dan_Loop.ipynb\" target=\"_parent\"><img src=\"https://colab.research.google.com/assets/colab-badge.svg\" alt=\"Open In Colab\"/></a>"
      ]
    },
    {
      "cell_type": "markdown",
      "source": [
        "## Kondisi IF"
      ],
      "metadata": {
        "id": "wu2TaGF0swwv"
      }
    },
    {
      "cell_type": "code",
      "execution_count": 1,
      "metadata": {
        "id": "6YUF70tJsu2S"
      },
      "outputs": [],
      "source": [
        "# Ganti nilai kebenaran dari varible lapar\n",
        "# Karena kondisi bernilai False maka \"Makan\" tidak ditampilkan\n",
        "\n",
        "lapar = False\n",
        "\n",
        "if lapar == True:\n",
        "  print(\"Makan\")"
      ]
    },
    {
      "cell_type": "code",
      "source": [
        "# Karena kondisi bernilai True maka \"Makan\" ditampilkan\n",
        "\n",
        "lapar = True\n",
        "\n",
        "if lapar == True:\n",
        "  print(\"Makan\")"
      ],
      "metadata": {
        "colab": {
          "base_uri": "https://localhost:8080/"
        },
        "id": "5KXwWgUEs57U",
        "outputId": "ceed88fb-c963-48b0-cc54-a7826f3cc3e3"
      },
      "execution_count": 2,
      "outputs": [
        {
          "output_type": "stream",
          "name": "stdout",
          "text": [
            "Makan\n"
          ]
        }
      ]
    },
    {
      "cell_type": "markdown",
      "source": [
        "## Kondisi IF ELSE"
      ],
      "metadata": {
        "id": "2YjBw2iEtCcP"
      }
    },
    {
      "cell_type": "code",
      "source": [
        "# Jika lapar bernilai True maka 'Makan' akan ditampilkan\n",
        "# Jika kondisi lapar tidak terpenuhi maka 'Terus belajar' akan ditampilkan\n",
        "\n",
        "lapar = False\n",
        "\n",
        "if lapar == True:\n",
        "  print(\"Makan\")\n",
        "else:\n",
        "  print(\"Terus belajar\")"
      ],
      "metadata": {
        "colab": {
          "base_uri": "https://localhost:8080/"
        },
        "id": "MwWbSfZYtBW2",
        "outputId": "0c505a2c-e2e3-4f27-9337-e22c22883a70"
      },
      "execution_count": 3,
      "outputs": [
        {
          "output_type": "stream",
          "name": "stdout",
          "text": [
            "Terus belajar\n"
          ]
        }
      ]
    },
    {
      "cell_type": "markdown",
      "source": [
        "## Kondisi IF ELIF ELSE"
      ],
      "metadata": {
        "id": "wc_Yve3vtJOn"
      }
    },
    {
      "cell_type": "code",
      "source": [
        "# akan menampilkan action berdasarkan kondisi\n",
        "# jika tidak ada kondisi yang didaftarkan maka 'Terus belajar' akan ditampilkan\n",
        "kondisi = 'capek'\n",
        "\n",
        "if kondisi == 'lapar' :\n",
        "  print(\"Makan\")\n",
        "elif kondisi == 'capek' :\n",
        "  print(\"Istirahat\")\n",
        "elif kondisi == 'ngantuk' :\n",
        "  print(\"Tidur\")\n",
        "else :\n",
        "  print(\"Terus belajar\")"
      ],
      "metadata": {
        "colab": {
          "base_uri": "https://localhost:8080/"
        },
        "id": "sVD8O5WutMso",
        "outputId": "1b5cad23-c646-4021-d842-d03dff8a3394"
      },
      "execution_count": 4,
      "outputs": [
        {
          "output_type": "stream",
          "name": "stdout",
          "text": [
            "Istirahat\n"
          ]
        }
      ]
    },
    {
      "cell_type": "markdown",
      "source": [
        "## Fungsi"
      ],
      "metadata": {
        "id": "q2Kzwb7ctQrn"
      }
    },
    {
      "cell_type": "code",
      "source": [
        "def tulis_hello():\n",
        "  print('Hello')"
      ],
      "metadata": {
        "id": "FGSD79CjtSOF"
      },
      "execution_count": 5,
      "outputs": []
    },
    {
      "cell_type": "code",
      "source": [
        "tulis_hello()"
      ],
      "metadata": {
        "colab": {
          "base_uri": "https://localhost:8080/"
        },
        "id": "I-xkjwM0tU2m",
        "outputId": "6f38d992-fe4e-4b7b-e95b-65aa8f5be41b"
      },
      "execution_count": 6,
      "outputs": [
        {
          "output_type": "stream",
          "name": "stdout",
          "text": [
            "Hello\n"
          ]
        }
      ]
    },
    {
      "cell_type": "code",
      "source": [
        "# Membuat fungsi untuk menghitung luas persegi (panjang x lebar)\n",
        "# Nilai hasil perhitungan dikembalikan sebagai nilai dari fungsi\n",
        "def luas_persegi(panjang, lebar):\n",
        "  return panjang*lebar"
      ],
      "metadata": {
        "id": "f_w2I2TStWxP"
      },
      "execution_count": 7,
      "outputs": []
    },
    {
      "cell_type": "code",
      "source": [
        "# L akan memiliki nilai karena fungsi luas_persegi mengembalikan nilai\n",
        "L = luas_persegi(10,50)\n",
        "print(L)"
      ],
      "metadata": {
        "colab": {
          "base_uri": "https://localhost:8080/"
        },
        "id": "ZUC5XQBvteFi",
        "outputId": "9d31b45e-88c5-4f4e-ef2a-5adc3c70a1cd"
      },
      "execution_count": 8,
      "outputs": [
        {
          "output_type": "stream",
          "name": "stdout",
          "text": [
            "500\n"
          ]
        }
      ]
    },
    {
      "cell_type": "code",
      "source": [
        "# fungsi ini hanya menampilkan hasil perkalian panjang dengan lebar\n",
        "# fungsi ini tidak mengembalikan nilai\n",
        "def luas_persegi(panjang, lebar):\n",
        "  print(panjang*lebar)"
      ],
      "metadata": {
        "id": "9aDGYoa_tgQQ"
      },
      "execution_count": 9,
      "outputs": []
    },
    {
      "cell_type": "code",
      "source": [
        "luas_persegi(3,4)"
      ],
      "metadata": {
        "colab": {
          "base_uri": "https://localhost:8080/"
        },
        "id": "b8ACvGtQtih1",
        "outputId": "6f5f7e7a-2885-4723-aaa8-de8f45e74551"
      },
      "execution_count": 10,
      "outputs": [
        {
          "output_type": "stream",
          "name": "stdout",
          "text": [
            "12\n"
          ]
        }
      ]
    },
    {
      "cell_type": "code",
      "source": [
        "L = luas_persegi(3,4)\n",
        "\n",
        "# L bernilai None atau tidak memiliki nilai karena L diperoleh dari fungsi yang tidak mengembalikan nilai\n",
        "print(L)"
      ],
      "metadata": {
        "colab": {
          "base_uri": "https://localhost:8080/"
        },
        "id": "R6nbLiO4tlIK",
        "outputId": "62f58c8b-9f5e-4eb1-9e17-8dc6dc9a9612"
      },
      "execution_count": 12,
      "outputs": [
        {
          "output_type": "stream",
          "name": "stdout",
          "text": [
            "12\n",
            "None\n"
          ]
        }
      ]
    },
    {
      "cell_type": "markdown",
      "source": [
        "## Loop"
      ],
      "metadata": {
        "id": "Dvoj7wz5t4rX"
      }
    },
    {
      "cell_type": "markdown",
      "source": [
        "## For Loop"
      ],
      "metadata": {
        "id": "oXkoyvmhuN-d"
      }
    },
    {
      "cell_type": "code",
      "source": [
        "# iterasi menggunakan list\n",
        "for buah in ['apel','mangga','anggur']:\n",
        "  print(buah)"
      ],
      "metadata": {
        "colab": {
          "base_uri": "https://localhost:8080/"
        },
        "id": "ronX9drAt1_S",
        "outputId": "f92a970b-7920-4c9c-d003-bc388c7e21c7"
      },
      "execution_count": 13,
      "outputs": [
        {
          "output_type": "stream",
          "name": "stdout",
          "text": [
            "apel\n",
            "mangga\n",
            "anggur\n"
          ]
        }
      ]
    },
    {
      "cell_type": "code",
      "source": [
        "# fungsi range(10) digunakan untuk membuat iterator sepanjang 10\n",
        "list(range(10))"
      ],
      "metadata": {
        "colab": {
          "base_uri": "https://localhost:8080/"
        },
        "id": "dU5gUQpYt3-4",
        "outputId": "9cb878f3-8c8a-4d03-9dbc-cc53ed3af6e8"
      },
      "execution_count": 14,
      "outputs": [
        {
          "output_type": "execute_result",
          "data": {
            "text/plain": [
              "[0, 1, 2, 3, 4, 5, 6, 7, 8, 9]"
            ]
          },
          "metadata": {},
          "execution_count": 14
        }
      ]
    },
    {
      "cell_type": "code",
      "source": [
        "for i in range(10):\n",
        "  print(i)"
      ],
      "metadata": {
        "colab": {
          "base_uri": "https://localhost:8080/"
        },
        "id": "8cAo2RNiuBF0",
        "outputId": "fb72c899-01f8-4a8e-a9b2-745f4b3820a4"
      },
      "execution_count": 15,
      "outputs": [
        {
          "output_type": "stream",
          "name": "stdout",
          "text": [
            "0\n",
            "1\n",
            "2\n",
            "3\n",
            "4\n",
            "5\n",
            "6\n",
            "7\n",
            "8\n",
            "9\n"
          ]
        }
      ]
    },
    {
      "cell_type": "markdown",
      "source": [
        "## While Loop"
      ],
      "metadata": {
        "id": "dW_dqCv8uJ8M"
      }
    },
    {
      "cell_type": "code",
      "source": [
        "# menghitung mundur x selama x lebih besar dari 0\n",
        "# sama artinya dengan menghitung mundur x sampai x bernilai 0\n",
        "x = 100\n",
        "\n",
        "while x > 0:\n",
        "  print(x)\n",
        "  x = x - 1"
      ],
      "metadata": {
        "colab": {
          "base_uri": "https://localhost:8080/"
        },
        "id": "tdPz5HH8uJAA",
        "outputId": "4a2cfdf9-8971-4b4b-8b76-d810201c7da3"
      },
      "execution_count": 16,
      "outputs": [
        {
          "output_type": "stream",
          "name": "stdout",
          "text": [
            "100\n",
            "99\n",
            "98\n",
            "97\n",
            "96\n",
            "95\n",
            "94\n",
            "93\n",
            "92\n",
            "91\n",
            "90\n",
            "89\n",
            "88\n",
            "87\n",
            "86\n",
            "85\n",
            "84\n",
            "83\n",
            "82\n",
            "81\n",
            "80\n",
            "79\n",
            "78\n",
            "77\n",
            "76\n",
            "75\n",
            "74\n",
            "73\n",
            "72\n",
            "71\n",
            "70\n",
            "69\n",
            "68\n",
            "67\n",
            "66\n",
            "65\n",
            "64\n",
            "63\n",
            "62\n",
            "61\n",
            "60\n",
            "59\n",
            "58\n",
            "57\n",
            "56\n",
            "55\n",
            "54\n",
            "53\n",
            "52\n",
            "51\n",
            "50\n",
            "49\n",
            "48\n",
            "47\n",
            "46\n",
            "45\n",
            "44\n",
            "43\n",
            "42\n",
            "41\n",
            "40\n",
            "39\n",
            "38\n",
            "37\n",
            "36\n",
            "35\n",
            "34\n",
            "33\n",
            "32\n",
            "31\n",
            "30\n",
            "29\n",
            "28\n",
            "27\n",
            "26\n",
            "25\n",
            "24\n",
            "23\n",
            "22\n",
            "21\n",
            "20\n",
            "19\n",
            "18\n",
            "17\n",
            "16\n",
            "15\n",
            "14\n",
            "13\n",
            "12\n",
            "11\n",
            "10\n",
            "9\n",
            "8\n",
            "7\n",
            "6\n",
            "5\n",
            "4\n",
            "3\n",
            "2\n",
            "1\n"
          ]
        }
      ]
    },
    {
      "cell_type": "code",
      "source": [
        "# potongan kode yang akan menampilkan 'jalan terus' selama tidak ada perintah 'berhenti'\n",
        "perintah = 'jalan'\n",
        "\n",
        "while perintah != 'berhenti':\n",
        "  print('jalan terus')\n",
        "  perintah = input()"
      ],
      "metadata": {
        "colab": {
          "base_uri": "https://localhost:8080/"
        },
        "id": "cEMeQg9wuaK9",
        "outputId": "e79aca40-a633-47ce-e807-aa9ede0525c8"
      },
      "execution_count": 17,
      "outputs": [
        {
          "name": "stdout",
          "output_type": "stream",
          "text": [
            "jalan terus\n",
            "apapun\n",
            "jalan terus\n",
            "jalan\n",
            "jalan terus\n",
            "berhenti\n"
          ]
        }
      ]
    },
    {
      "cell_type": "markdown",
      "source": [
        "## Break, Continue, dan Pass"
      ],
      "metadata": {
        "id": "sVgYdfSGuiuv"
      }
    },
    {
      "cell_type": "code",
      "source": [
        "# break digunakan untuk keluar dari looping\n",
        "# contoh: looping akan berhenti saat i bernilai 6\n",
        "for i in range(10):\n",
        "  print(i)\n",
        "  if i == 6:\n",
        "    break"
      ],
      "metadata": {
        "colab": {
          "base_uri": "https://localhost:8080/"
        },
        "id": "M5DedNmgumGr",
        "outputId": "0c16521e-cd39-4843-cf5d-42fe461fd081"
      },
      "execution_count": 18,
      "outputs": [
        {
          "output_type": "stream",
          "name": "stdout",
          "text": [
            "0\n",
            "1\n",
            "2\n",
            "3\n",
            "4\n",
            "5\n",
            "6\n"
          ]
        }
      ]
    },
    {
      "cell_type": "code",
      "source": [
        "# continue digunakan untuk melewati iterasi yang sedang berlangsung, loncat ke iterasi selanjutnya\n",
        "# contoh: saat i bernilai 7, nilai i tidak ditulis tapi langsung loncat ke iterasi selanjutnya\n",
        "for i in range(10):\n",
        "  if i == 7:\n",
        "    continue\n",
        "  print(i)"
      ],
      "metadata": {
        "colab": {
          "base_uri": "https://localhost:8080/"
        },
        "id": "AfOrpBcUuoLA",
        "outputId": "f729dc54-7557-4dbd-87f0-787ee296503c"
      },
      "execution_count": 19,
      "outputs": [
        {
          "output_type": "stream",
          "name": "stdout",
          "text": [
            "0\n",
            "1\n",
            "2\n",
            "3\n",
            "4\n",
            "5\n",
            "6\n",
            "8\n",
            "9\n"
          ]
        }
      ]
    },
    {
      "cell_type": "code",
      "source": [
        "# pass digunakan jika kita tidak memiliki apapun untuk dimasukkan ke dalam looping\n",
        "for i in range(10):\n",
        "  pass"
      ],
      "metadata": {
        "id": "4LOaq4-5uqDL"
      },
      "execution_count": 20,
      "outputs": []
    }
  ]
}